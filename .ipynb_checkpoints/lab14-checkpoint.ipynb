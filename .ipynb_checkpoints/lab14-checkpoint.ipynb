{
 "cells": [
  {
   "cell_type": "markdown",
   "id": "fdde2c8b",
   "metadata": {},
   "source": [
    "# 14-1 가설 검정이란"
   ]
  },
  {
   "cell_type": "markdown",
   "id": "becfb9cc",
   "metadata": {},
   "source": [
    "# 14-2 t검정 - 두 집단의 평균 비교하기"
   ]
  },
  {
   "cell_type": "markdown",
   "id": "ba134674",
   "metadata": {},
   "source": [
    "T test : 두 집단의 평균에 통계적으로 유의미한 차이가 있는지 알아보는 통계 분석 방법"
   ]
  },
  {
   "cell_type": "markdown",
   "id": "99e8f049",
   "metadata": {},
   "source": [
    "## compact 자동차와 suv 자동차의 도시 연비 t 검정"
   ]
  },
  {
   "cell_type": "code",
   "execution_count": 1,
   "id": "c09ca09b",
   "metadata": {},
   "outputs": [],
   "source": [
    "import pandas as pd\n",
    "mpg = pd.read_csv('mpg.csv')"
   ]
  },
  {
   "cell_type": "code",
   "execution_count": 3,
   "id": "7d26832c",
   "metadata": {},
   "outputs": [
    {
     "data": {
      "text/html": [
       "<div>\n",
       "<style scoped>\n",
       "    .dataframe tbody tr th:only-of-type {\n",
       "        vertical-align: middle;\n",
       "    }\n",
       "\n",
       "    .dataframe tbody tr th {\n",
       "        vertical-align: top;\n",
       "    }\n",
       "\n",
       "    .dataframe thead th {\n",
       "        text-align: right;\n",
       "    }\n",
       "</style>\n",
       "<table border=\"1\" class=\"dataframe\">\n",
       "  <thead>\n",
       "    <tr style=\"text-align: right;\">\n",
       "      <th></th>\n",
       "      <th>category</th>\n",
       "      <th>n</th>\n",
       "      <th>mean</th>\n",
       "    </tr>\n",
       "  </thead>\n",
       "  <tbody>\n",
       "    <tr>\n",
       "      <th>0</th>\n",
       "      <td>compact</td>\n",
       "      <td>47</td>\n",
       "      <td>20.12766</td>\n",
       "    </tr>\n",
       "    <tr>\n",
       "      <th>1</th>\n",
       "      <td>suv</td>\n",
       "      <td>62</td>\n",
       "      <td>13.50000</td>\n",
       "    </tr>\n",
       "  </tbody>\n",
       "</table>\n",
       "</div>"
      ],
      "text/plain": [
       "  category   n      mean\n",
       "0  compact  47  20.12766\n",
       "1      suv  62  13.50000"
      ]
     },
     "execution_count": 3,
     "metadata": {},
     "output_type": "execute_result"
    }
   ],
   "source": [
    "# 기술 통계 분석\n",
    "mpg.query('category in [\"compact\", \"suv\"]')\\\n",
    "    .groupby('category', as_index = False) \\\n",
    "    .agg(n    = ('category', 'count'),\n",
    "        mean  = ('cty', 'mean'))"
   ]
  },
  {
   "cell_type": "code",
   "execution_count": 5,
   "id": "a85a6a39",
   "metadata": {},
   "outputs": [],
   "source": [
    "compact = mpg.query('category == \"compact\"')['cty']\n",
    "suv = mpg.query('category == \"suv\"')['cty']"
   ]
  },
  {
   "cell_type": "code",
   "execution_count": 6,
   "id": "d9b7bc71",
   "metadata": {},
   "outputs": [
    {
     "data": {
      "text/plain": [
       "Ttest_indResult(statistic=11.917282584324107, pvalue=2.3909550904711282e-21)"
      ]
     },
     "execution_count": 6,
     "metadata": {},
     "output_type": "execute_result"
    }
   ],
   "source": [
    "# t - test\n",
    "from scipy import stats\n",
    "stats.ttest_ind(compact, suv, equal_var = True)"
   ]
  },
  {
   "cell_type": "markdown",
   "id": "1e643007",
   "metadata": {},
   "source": [
    "t test output : reject H0"
   ]
  },
  {
   "cell_type": "markdown",
   "id": "c2818528",
   "metadata": {},
   "source": [
    "## 일반 휘발유와 고급 휘발유의 도시 연비 t 검정"
   ]
  },
  {
   "cell_type": "code",
   "execution_count": 7,
   "id": "d8652ff2",
   "metadata": {},
   "outputs": [
    {
     "data": {
      "text/html": [
       "<div>\n",
       "<style scoped>\n",
       "    .dataframe tbody tr th:only-of-type {\n",
       "        vertical-align: middle;\n",
       "    }\n",
       "\n",
       "    .dataframe tbody tr th {\n",
       "        vertical-align: top;\n",
       "    }\n",
       "\n",
       "    .dataframe thead th {\n",
       "        text-align: right;\n",
       "    }\n",
       "</style>\n",
       "<table border=\"1\" class=\"dataframe\">\n",
       "  <thead>\n",
       "    <tr style=\"text-align: right;\">\n",
       "      <th></th>\n",
       "      <th>fl</th>\n",
       "      <th>n</th>\n",
       "      <th>mean</th>\n",
       "    </tr>\n",
       "  </thead>\n",
       "  <tbody>\n",
       "    <tr>\n",
       "      <th>0</th>\n",
       "      <td>p</td>\n",
       "      <td>52</td>\n",
       "      <td>17.365385</td>\n",
       "    </tr>\n",
       "    <tr>\n",
       "      <th>1</th>\n",
       "      <td>r</td>\n",
       "      <td>168</td>\n",
       "      <td>16.738095</td>\n",
       "    </tr>\n",
       "  </tbody>\n",
       "</table>\n",
       "</div>"
      ],
      "text/plain": [
       "  fl    n       mean\n",
       "0  p   52  17.365385\n",
       "1  r  168  16.738095"
      ]
     },
     "execution_count": 7,
     "metadata": {},
     "output_type": "execute_result"
    }
   ],
   "source": [
    "# 기술 통계 분석\n",
    "mpg.query('fl in [\"r\", \"p\"]') \\\n",
    "    .groupby('fl', as_index = False) \\\n",
    "    .agg(n     = ('fl', 'count'),\n",
    "        mean   = ('cty', 'mean'))"
   ]
  },
  {
   "cell_type": "code",
   "execution_count": 8,
   "id": "ddf1a3a8",
   "metadata": {},
   "outputs": [
    {
     "data": {
      "text/plain": [
       "Ttest_indResult(statistic=-1.066182514588919, pvalue=0.28752051088667036)"
      ]
     },
     "execution_count": 8,
     "metadata": {},
     "output_type": "execute_result"
    }
   ],
   "source": [
    "regular = mpg.query('fl == \"r\"')['cty']\n",
    "premium = mpg.query('fl == \"p\"')['cty']\n",
    "\n",
    "\n",
    "# t - test\n",
    "stats.ttest_ind(regular, premium, equal_var = True)"
   ]
  },
  {
   "cell_type": "markdown",
   "id": "ff931e52",
   "metadata": {},
   "source": [
    "t test output : reject H0"
   ]
  },
  {
   "cell_type": "markdown",
   "id": "012a12b8",
   "metadata": {},
   "source": [
    "# 14-3 상관분석 - 두 변수의 관계 분석하기"
   ]
  },
  {
   "cell_type": "markdown",
   "id": "1c848e81",
   "metadata": {},
   "source": [
    "## 실업자 수와 개인 소비 지출의 상관관계"
   ]
  },
  {
   "cell_type": "markdown",
   "id": "2ca80715",
   "metadata": {},
   "source": [
    "### 1. 상관계수 구하기"
   ]
  },
  {
   "cell_type": "code",
   "execution_count": 10,
   "id": "2996969d",
   "metadata": {},
   "outputs": [],
   "source": [
    "# economics 데이터 불러오기\n",
    "economics = pd.read_csv('economics.csv')"
   ]
  },
  {
   "cell_type": "code",
   "execution_count": null,
   "id": "450de1ec",
   "metadata": {},
   "outputs": [],
   "source": []
  }
 ],
 "metadata": {
  "kernelspec": {
   "display_name": "Python 3 (ipykernel)",
   "language": "python",
   "name": "python3"
  },
  "language_info": {
   "codemirror_mode": {
    "name": "ipython",
    "version": 3
   },
   "file_extension": ".py",
   "mimetype": "text/x-python",
   "name": "python",
   "nbconvert_exporter": "python",
   "pygments_lexer": "ipython3",
   "version": "3.9.12"
  }
 },
 "nbformat": 4,
 "nbformat_minor": 5
}
