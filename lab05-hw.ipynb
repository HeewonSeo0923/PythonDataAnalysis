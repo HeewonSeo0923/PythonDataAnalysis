{
 "cells": [
  {
   "cell_type": "code",
   "execution_count": 1,
   "metadata": {
    "collapsed": true
   },
   "outputs": [],
   "source": [
    "# 1 - 데이터 특징 파악하기"
   ]
  },
  {
   "cell_type": "code",
   "execution_count": 2,
   "outputs": [],
   "source": [
    "import pandas as pd\n",
    "import numpy as np"
   ],
   "metadata": {
    "collapsed": false,
    "pycharm": {
     "name": "#%%\n"
    }
   }
  },
  {
   "cell_type": "code",
   "execution_count": 3,
   "outputs": [],
   "source": [
    "midwest = pd.read_csv('midwest.csv')"
   ],
   "metadata": {
    "collapsed": false,
    "pycharm": {
     "name": "#%%\n"
    }
   }
  },
  {
   "cell_type": "code",
   "execution_count": 4,
   "outputs": [
    {
     "data": {
      "text/plain": "      PID     county state   area  poptotal   popdensity  popwhite  popblack  \\\n0     561      ADAMS    IL  0.052     66090  1270.961540     63917      1702   \n1     562  ALEXANDER    IL  0.014     10626   759.000000      7054      3496   \n2     563       BOND    IL  0.022     14991   681.409091     14477       429   \n3     564      BOONE    IL  0.017     30806  1812.117650     29344       127   \n4     565      BROWN    IL  0.018      5836   324.222222      5264       547   \n..    ...        ...   ...    ...       ...          ...       ...       ...   \n432  3048   WAUKESHA    WI  0.034    304715  8962.205880    298313      1096   \n433  3049    WAUPACA    WI  0.045     46104  1024.533330     45695        22   \n434  3050   WAUSHARA    WI  0.037     19385   523.918919     19094        29   \n435  3051  WINNEBAGO    WI  0.035    140320  4009.142860    136822       697   \n436  3052       WOOD    WI  0.048     73605  1533.437500     72157        90   \n\n     popamerindian  popasian  ...  percollege  percprof  poppovertyknown  \\\n0               98       249  ...   19.631392  4.355859            63628   \n1               19        48  ...   11.243308  2.870315            10529   \n2               35        16  ...   17.033819  4.488572            14235   \n3               46       150  ...   17.278954  4.197800            30337   \n4               14         5  ...   14.475999  3.367680             4815   \n..             ...       ...  ...         ...       ...              ...   \n432            672      2699  ...   35.396784  7.667090           299802   \n433            125        92  ...   16.549869  3.138596            44412   \n434             70        43  ...   15.064584  2.620907            19163   \n435            685      1728  ...   24.995504  5.659847           133950   \n436            481       722  ...   21.666382  4.583725            72685   \n\n     percpovertyknown  percbelowpoverty  percchildbelowpovert  \\\n0           96.274777         13.151443             18.011717   \n1           99.087145         32.244278             45.826514   \n2           94.956974         12.068844             14.036061   \n3           98.477569          7.209019             11.179536   \n4           82.505140         13.520249             13.022889   \n..                ...               ...                   ...   \n432         98.387674          3.121060              3.785820   \n433         96.330036          8.488697             10.071411   \n434         98.854785         13.786985             20.050708   \n435         95.460376          8.804031             10.592031   \n436         98.750085          8.525831             11.162997   \n\n     percadultpoverty  percelderlypoverty  inmetro  category  \n0           11.009776           12.443812        0       AAR  \n1           27.385647           25.228976        0       LHR  \n2           10.852090           12.697410        0       AAR  \n3            5.536013            6.217047        1       ALU  \n4           11.143211           19.200000        0       AAR  \n..                ...                 ...      ...       ...  \n432          2.590061            4.085479        1       HLU  \n433          6.953799           10.338641        0       AAR  \n434         11.695784           11.804558        0       AAR  \n435          8.660587            6.661094        1       HAU  \n436          7.375656            7.882918        0       AAR  \n\n[437 rows x 28 columns]",
      "text/html": "<div>\n<style scoped>\n    .dataframe tbody tr th:only-of-type {\n        vertical-align: middle;\n    }\n\n    .dataframe tbody tr th {\n        vertical-align: top;\n    }\n\n    .dataframe thead th {\n        text-align: right;\n    }\n</style>\n<table border=\"1\" class=\"dataframe\">\n  <thead>\n    <tr style=\"text-align: right;\">\n      <th></th>\n      <th>PID</th>\n      <th>county</th>\n      <th>state</th>\n      <th>area</th>\n      <th>poptotal</th>\n      <th>popdensity</th>\n      <th>popwhite</th>\n      <th>popblack</th>\n      <th>popamerindian</th>\n      <th>popasian</th>\n      <th>...</th>\n      <th>percollege</th>\n      <th>percprof</th>\n      <th>poppovertyknown</th>\n      <th>percpovertyknown</th>\n      <th>percbelowpoverty</th>\n      <th>percchildbelowpovert</th>\n      <th>percadultpoverty</th>\n      <th>percelderlypoverty</th>\n      <th>inmetro</th>\n      <th>category</th>\n    </tr>\n  </thead>\n  <tbody>\n    <tr>\n      <th>0</th>\n      <td>561</td>\n      <td>ADAMS</td>\n      <td>IL</td>\n      <td>0.052</td>\n      <td>66090</td>\n      <td>1270.961540</td>\n      <td>63917</td>\n      <td>1702</td>\n      <td>98</td>\n      <td>249</td>\n      <td>...</td>\n      <td>19.631392</td>\n      <td>4.355859</td>\n      <td>63628</td>\n      <td>96.274777</td>\n      <td>13.151443</td>\n      <td>18.011717</td>\n      <td>11.009776</td>\n      <td>12.443812</td>\n      <td>0</td>\n      <td>AAR</td>\n    </tr>\n    <tr>\n      <th>1</th>\n      <td>562</td>\n      <td>ALEXANDER</td>\n      <td>IL</td>\n      <td>0.014</td>\n      <td>10626</td>\n      <td>759.000000</td>\n      <td>7054</td>\n      <td>3496</td>\n      <td>19</td>\n      <td>48</td>\n      <td>...</td>\n      <td>11.243308</td>\n      <td>2.870315</td>\n      <td>10529</td>\n      <td>99.087145</td>\n      <td>32.244278</td>\n      <td>45.826514</td>\n      <td>27.385647</td>\n      <td>25.228976</td>\n      <td>0</td>\n      <td>LHR</td>\n    </tr>\n    <tr>\n      <th>2</th>\n      <td>563</td>\n      <td>BOND</td>\n      <td>IL</td>\n      <td>0.022</td>\n      <td>14991</td>\n      <td>681.409091</td>\n      <td>14477</td>\n      <td>429</td>\n      <td>35</td>\n      <td>16</td>\n      <td>...</td>\n      <td>17.033819</td>\n      <td>4.488572</td>\n      <td>14235</td>\n      <td>94.956974</td>\n      <td>12.068844</td>\n      <td>14.036061</td>\n      <td>10.852090</td>\n      <td>12.697410</td>\n      <td>0</td>\n      <td>AAR</td>\n    </tr>\n    <tr>\n      <th>3</th>\n      <td>564</td>\n      <td>BOONE</td>\n      <td>IL</td>\n      <td>0.017</td>\n      <td>30806</td>\n      <td>1812.117650</td>\n      <td>29344</td>\n      <td>127</td>\n      <td>46</td>\n      <td>150</td>\n      <td>...</td>\n      <td>17.278954</td>\n      <td>4.197800</td>\n      <td>30337</td>\n      <td>98.477569</td>\n      <td>7.209019</td>\n      <td>11.179536</td>\n      <td>5.536013</td>\n      <td>6.217047</td>\n      <td>1</td>\n      <td>ALU</td>\n    </tr>\n    <tr>\n      <th>4</th>\n      <td>565</td>\n      <td>BROWN</td>\n      <td>IL</td>\n      <td>0.018</td>\n      <td>5836</td>\n      <td>324.222222</td>\n      <td>5264</td>\n      <td>547</td>\n      <td>14</td>\n      <td>5</td>\n      <td>...</td>\n      <td>14.475999</td>\n      <td>3.367680</td>\n      <td>4815</td>\n      <td>82.505140</td>\n      <td>13.520249</td>\n      <td>13.022889</td>\n      <td>11.143211</td>\n      <td>19.200000</td>\n      <td>0</td>\n      <td>AAR</td>\n    </tr>\n    <tr>\n      <th>...</th>\n      <td>...</td>\n      <td>...</td>\n      <td>...</td>\n      <td>...</td>\n      <td>...</td>\n      <td>...</td>\n      <td>...</td>\n      <td>...</td>\n      <td>...</td>\n      <td>...</td>\n      <td>...</td>\n      <td>...</td>\n      <td>...</td>\n      <td>...</td>\n      <td>...</td>\n      <td>...</td>\n      <td>...</td>\n      <td>...</td>\n      <td>...</td>\n      <td>...</td>\n      <td>...</td>\n    </tr>\n    <tr>\n      <th>432</th>\n      <td>3048</td>\n      <td>WAUKESHA</td>\n      <td>WI</td>\n      <td>0.034</td>\n      <td>304715</td>\n      <td>8962.205880</td>\n      <td>298313</td>\n      <td>1096</td>\n      <td>672</td>\n      <td>2699</td>\n      <td>...</td>\n      <td>35.396784</td>\n      <td>7.667090</td>\n      <td>299802</td>\n      <td>98.387674</td>\n      <td>3.121060</td>\n      <td>3.785820</td>\n      <td>2.590061</td>\n      <td>4.085479</td>\n      <td>1</td>\n      <td>HLU</td>\n    </tr>\n    <tr>\n      <th>433</th>\n      <td>3049</td>\n      <td>WAUPACA</td>\n      <td>WI</td>\n      <td>0.045</td>\n      <td>46104</td>\n      <td>1024.533330</td>\n      <td>45695</td>\n      <td>22</td>\n      <td>125</td>\n      <td>92</td>\n      <td>...</td>\n      <td>16.549869</td>\n      <td>3.138596</td>\n      <td>44412</td>\n      <td>96.330036</td>\n      <td>8.488697</td>\n      <td>10.071411</td>\n      <td>6.953799</td>\n      <td>10.338641</td>\n      <td>0</td>\n      <td>AAR</td>\n    </tr>\n    <tr>\n      <th>434</th>\n      <td>3050</td>\n      <td>WAUSHARA</td>\n      <td>WI</td>\n      <td>0.037</td>\n      <td>19385</td>\n      <td>523.918919</td>\n      <td>19094</td>\n      <td>29</td>\n      <td>70</td>\n      <td>43</td>\n      <td>...</td>\n      <td>15.064584</td>\n      <td>2.620907</td>\n      <td>19163</td>\n      <td>98.854785</td>\n      <td>13.786985</td>\n      <td>20.050708</td>\n      <td>11.695784</td>\n      <td>11.804558</td>\n      <td>0</td>\n      <td>AAR</td>\n    </tr>\n    <tr>\n      <th>435</th>\n      <td>3051</td>\n      <td>WINNEBAGO</td>\n      <td>WI</td>\n      <td>0.035</td>\n      <td>140320</td>\n      <td>4009.142860</td>\n      <td>136822</td>\n      <td>697</td>\n      <td>685</td>\n      <td>1728</td>\n      <td>...</td>\n      <td>24.995504</td>\n      <td>5.659847</td>\n      <td>133950</td>\n      <td>95.460376</td>\n      <td>8.804031</td>\n      <td>10.592031</td>\n      <td>8.660587</td>\n      <td>6.661094</td>\n      <td>1</td>\n      <td>HAU</td>\n    </tr>\n    <tr>\n      <th>436</th>\n      <td>3052</td>\n      <td>WOOD</td>\n      <td>WI</td>\n      <td>0.048</td>\n      <td>73605</td>\n      <td>1533.437500</td>\n      <td>72157</td>\n      <td>90</td>\n      <td>481</td>\n      <td>722</td>\n      <td>...</td>\n      <td>21.666382</td>\n      <td>4.583725</td>\n      <td>72685</td>\n      <td>98.750085</td>\n      <td>8.525831</td>\n      <td>11.162997</td>\n      <td>7.375656</td>\n      <td>7.882918</td>\n      <td>0</td>\n      <td>AAR</td>\n    </tr>\n  </tbody>\n</table>\n<p>437 rows × 28 columns</p>\n</div>"
     },
     "execution_count": 4,
     "metadata": {},
     "output_type": "execute_result"
    }
   ],
   "source": [
    "midwest"
   ],
   "metadata": {
    "collapsed": false,
    "pycharm": {
     "name": "#%%\n"
    }
   }
  },
  {
   "cell_type": "code",
   "execution_count": 7,
   "outputs": [
    {
     "data": {
      "text/plain": "   PID     county state   area  poptotal   popdensity  popwhite  popblack  \\\n0  561      ADAMS    IL  0.052     66090  1270.961540     63917      1702   \n1  562  ALEXANDER    IL  0.014     10626   759.000000      7054      3496   \n2  563       BOND    IL  0.022     14991   681.409091     14477       429   \n3  564      BOONE    IL  0.017     30806  1812.117650     29344       127   \n4  565      BROWN    IL  0.018      5836   324.222222      5264       547   \n\n   popamerindian  popasian  ...  percollege  percprof  poppovertyknown  \\\n0             98       249  ...   19.631392  4.355859            63628   \n1             19        48  ...   11.243308  2.870315            10529   \n2             35        16  ...   17.033819  4.488572            14235   \n3             46       150  ...   17.278954  4.197800            30337   \n4             14         5  ...   14.475999  3.367680             4815   \n\n   percpovertyknown  percbelowpoverty  percchildbelowpovert  percadultpoverty  \\\n0         96.274777         13.151443             18.011717         11.009776   \n1         99.087145         32.244278             45.826514         27.385647   \n2         94.956974         12.068844             14.036061         10.852090   \n3         98.477569          7.209019             11.179536          5.536013   \n4         82.505140         13.520249             13.022889         11.143211   \n\n   percelderlypoverty  inmetro  category  \n0           12.443812        0       AAR  \n1           25.228976        0       LHR  \n2           12.697410        0       AAR  \n3            6.217047        1       ALU  \n4           19.200000        0       AAR  \n\n[5 rows x 28 columns]",
      "text/html": "<div>\n<style scoped>\n    .dataframe tbody tr th:only-of-type {\n        vertical-align: middle;\n    }\n\n    .dataframe tbody tr th {\n        vertical-align: top;\n    }\n\n    .dataframe thead th {\n        text-align: right;\n    }\n</style>\n<table border=\"1\" class=\"dataframe\">\n  <thead>\n    <tr style=\"text-align: right;\">\n      <th></th>\n      <th>PID</th>\n      <th>county</th>\n      <th>state</th>\n      <th>area</th>\n      <th>poptotal</th>\n      <th>popdensity</th>\n      <th>popwhite</th>\n      <th>popblack</th>\n      <th>popamerindian</th>\n      <th>popasian</th>\n      <th>...</th>\n      <th>percollege</th>\n      <th>percprof</th>\n      <th>poppovertyknown</th>\n      <th>percpovertyknown</th>\n      <th>percbelowpoverty</th>\n      <th>percchildbelowpovert</th>\n      <th>percadultpoverty</th>\n      <th>percelderlypoverty</th>\n      <th>inmetro</th>\n      <th>category</th>\n    </tr>\n  </thead>\n  <tbody>\n    <tr>\n      <th>0</th>\n      <td>561</td>\n      <td>ADAMS</td>\n      <td>IL</td>\n      <td>0.052</td>\n      <td>66090</td>\n      <td>1270.961540</td>\n      <td>63917</td>\n      <td>1702</td>\n      <td>98</td>\n      <td>249</td>\n      <td>...</td>\n      <td>19.631392</td>\n      <td>4.355859</td>\n      <td>63628</td>\n      <td>96.274777</td>\n      <td>13.151443</td>\n      <td>18.011717</td>\n      <td>11.009776</td>\n      <td>12.443812</td>\n      <td>0</td>\n      <td>AAR</td>\n    </tr>\n    <tr>\n      <th>1</th>\n      <td>562</td>\n      <td>ALEXANDER</td>\n      <td>IL</td>\n      <td>0.014</td>\n      <td>10626</td>\n      <td>759.000000</td>\n      <td>7054</td>\n      <td>3496</td>\n      <td>19</td>\n      <td>48</td>\n      <td>...</td>\n      <td>11.243308</td>\n      <td>2.870315</td>\n      <td>10529</td>\n      <td>99.087145</td>\n      <td>32.244278</td>\n      <td>45.826514</td>\n      <td>27.385647</td>\n      <td>25.228976</td>\n      <td>0</td>\n      <td>LHR</td>\n    </tr>\n    <tr>\n      <th>2</th>\n      <td>563</td>\n      <td>BOND</td>\n      <td>IL</td>\n      <td>0.022</td>\n      <td>14991</td>\n      <td>681.409091</td>\n      <td>14477</td>\n      <td>429</td>\n      <td>35</td>\n      <td>16</td>\n      <td>...</td>\n      <td>17.033819</td>\n      <td>4.488572</td>\n      <td>14235</td>\n      <td>94.956974</td>\n      <td>12.068844</td>\n      <td>14.036061</td>\n      <td>10.852090</td>\n      <td>12.697410</td>\n      <td>0</td>\n      <td>AAR</td>\n    </tr>\n    <tr>\n      <th>3</th>\n      <td>564</td>\n      <td>BOONE</td>\n      <td>IL</td>\n      <td>0.017</td>\n      <td>30806</td>\n      <td>1812.117650</td>\n      <td>29344</td>\n      <td>127</td>\n      <td>46</td>\n      <td>150</td>\n      <td>...</td>\n      <td>17.278954</td>\n      <td>4.197800</td>\n      <td>30337</td>\n      <td>98.477569</td>\n      <td>7.209019</td>\n      <td>11.179536</td>\n      <td>5.536013</td>\n      <td>6.217047</td>\n      <td>1</td>\n      <td>ALU</td>\n    </tr>\n    <tr>\n      <th>4</th>\n      <td>565</td>\n      <td>BROWN</td>\n      <td>IL</td>\n      <td>0.018</td>\n      <td>5836</td>\n      <td>324.222222</td>\n      <td>5264</td>\n      <td>547</td>\n      <td>14</td>\n      <td>5</td>\n      <td>...</td>\n      <td>14.475999</td>\n      <td>3.367680</td>\n      <td>4815</td>\n      <td>82.505140</td>\n      <td>13.520249</td>\n      <td>13.022889</td>\n      <td>11.143211</td>\n      <td>19.200000</td>\n      <td>0</td>\n      <td>AAR</td>\n    </tr>\n  </tbody>\n</table>\n<p>5 rows × 28 columns</p>\n</div>"
     },
     "execution_count": 7,
     "metadata": {},
     "output_type": "execute_result"
    }
   ],
   "source": [
    "midwest.head()"
   ],
   "metadata": {
    "collapsed": false,
    "pycharm": {
     "name": "#%%\n"
    }
   }
  },
  {
   "cell_type": "code",
   "execution_count": 8,
   "outputs": [
    {
     "data": {
      "text/plain": "      PID     county state   area  poptotal   popdensity  popwhite  popblack  \\\n432  3048   WAUKESHA    WI  0.034    304715  8962.205880    298313      1096   \n433  3049    WAUPACA    WI  0.045     46104  1024.533330     45695        22   \n434  3050   WAUSHARA    WI  0.037     19385   523.918919     19094        29   \n435  3051  WINNEBAGO    WI  0.035    140320  4009.142860    136822       697   \n436  3052       WOOD    WI  0.048     73605  1533.437500     72157        90   \n\n     popamerindian  popasian  ...  percollege  percprof  poppovertyknown  \\\n432            672      2699  ...   35.396784  7.667090           299802   \n433            125        92  ...   16.549869  3.138596            44412   \n434             70        43  ...   15.064584  2.620907            19163   \n435            685      1728  ...   24.995504  5.659847           133950   \n436            481       722  ...   21.666382  4.583725            72685   \n\n     percpovertyknown  percbelowpoverty  percchildbelowpovert  \\\n432         98.387674          3.121060              3.785820   \n433         96.330036          8.488697             10.071411   \n434         98.854785         13.786985             20.050708   \n435         95.460376          8.804031             10.592031   \n436         98.750085          8.525831             11.162997   \n\n     percadultpoverty  percelderlypoverty  inmetro  category  \n432          2.590061            4.085479        1       HLU  \n433          6.953799           10.338641        0       AAR  \n434         11.695784           11.804558        0       AAR  \n435          8.660587            6.661094        1       HAU  \n436          7.375656            7.882918        0       AAR  \n\n[5 rows x 28 columns]",
      "text/html": "<div>\n<style scoped>\n    .dataframe tbody tr th:only-of-type {\n        vertical-align: middle;\n    }\n\n    .dataframe tbody tr th {\n        vertical-align: top;\n    }\n\n    .dataframe thead th {\n        text-align: right;\n    }\n</style>\n<table border=\"1\" class=\"dataframe\">\n  <thead>\n    <tr style=\"text-align: right;\">\n      <th></th>\n      <th>PID</th>\n      <th>county</th>\n      <th>state</th>\n      <th>area</th>\n      <th>poptotal</th>\n      <th>popdensity</th>\n      <th>popwhite</th>\n      <th>popblack</th>\n      <th>popamerindian</th>\n      <th>popasian</th>\n      <th>...</th>\n      <th>percollege</th>\n      <th>percprof</th>\n      <th>poppovertyknown</th>\n      <th>percpovertyknown</th>\n      <th>percbelowpoverty</th>\n      <th>percchildbelowpovert</th>\n      <th>percadultpoverty</th>\n      <th>percelderlypoverty</th>\n      <th>inmetro</th>\n      <th>category</th>\n    </tr>\n  </thead>\n  <tbody>\n    <tr>\n      <th>432</th>\n      <td>3048</td>\n      <td>WAUKESHA</td>\n      <td>WI</td>\n      <td>0.034</td>\n      <td>304715</td>\n      <td>8962.205880</td>\n      <td>298313</td>\n      <td>1096</td>\n      <td>672</td>\n      <td>2699</td>\n      <td>...</td>\n      <td>35.396784</td>\n      <td>7.667090</td>\n      <td>299802</td>\n      <td>98.387674</td>\n      <td>3.121060</td>\n      <td>3.785820</td>\n      <td>2.590061</td>\n      <td>4.085479</td>\n      <td>1</td>\n      <td>HLU</td>\n    </tr>\n    <tr>\n      <th>433</th>\n      <td>3049</td>\n      <td>WAUPACA</td>\n      <td>WI</td>\n      <td>0.045</td>\n      <td>46104</td>\n      <td>1024.533330</td>\n      <td>45695</td>\n      <td>22</td>\n      <td>125</td>\n      <td>92</td>\n      <td>...</td>\n      <td>16.549869</td>\n      <td>3.138596</td>\n      <td>44412</td>\n      <td>96.330036</td>\n      <td>8.488697</td>\n      <td>10.071411</td>\n      <td>6.953799</td>\n      <td>10.338641</td>\n      <td>0</td>\n      <td>AAR</td>\n    </tr>\n    <tr>\n      <th>434</th>\n      <td>3050</td>\n      <td>WAUSHARA</td>\n      <td>WI</td>\n      <td>0.037</td>\n      <td>19385</td>\n      <td>523.918919</td>\n      <td>19094</td>\n      <td>29</td>\n      <td>70</td>\n      <td>43</td>\n      <td>...</td>\n      <td>15.064584</td>\n      <td>2.620907</td>\n      <td>19163</td>\n      <td>98.854785</td>\n      <td>13.786985</td>\n      <td>20.050708</td>\n      <td>11.695784</td>\n      <td>11.804558</td>\n      <td>0</td>\n      <td>AAR</td>\n    </tr>\n    <tr>\n      <th>435</th>\n      <td>3051</td>\n      <td>WINNEBAGO</td>\n      <td>WI</td>\n      <td>0.035</td>\n      <td>140320</td>\n      <td>4009.142860</td>\n      <td>136822</td>\n      <td>697</td>\n      <td>685</td>\n      <td>1728</td>\n      <td>...</td>\n      <td>24.995504</td>\n      <td>5.659847</td>\n      <td>133950</td>\n      <td>95.460376</td>\n      <td>8.804031</td>\n      <td>10.592031</td>\n      <td>8.660587</td>\n      <td>6.661094</td>\n      <td>1</td>\n      <td>HAU</td>\n    </tr>\n    <tr>\n      <th>436</th>\n      <td>3052</td>\n      <td>WOOD</td>\n      <td>WI</td>\n      <td>0.048</td>\n      <td>73605</td>\n      <td>1533.437500</td>\n      <td>72157</td>\n      <td>90</td>\n      <td>481</td>\n      <td>722</td>\n      <td>...</td>\n      <td>21.666382</td>\n      <td>4.583725</td>\n      <td>72685</td>\n      <td>98.750085</td>\n      <td>8.525831</td>\n      <td>11.162997</td>\n      <td>7.375656</td>\n      <td>7.882918</td>\n      <td>0</td>\n      <td>AAR</td>\n    </tr>\n  </tbody>\n</table>\n<p>5 rows × 28 columns</p>\n</div>"
     },
     "execution_count": 8,
     "metadata": {},
     "output_type": "execute_result"
    }
   ],
   "source": [
    "midwest.tail()"
   ],
   "metadata": {
    "collapsed": false,
    "pycharm": {
     "name": "#%%\n"
    }
   }
  },
  {
   "cell_type": "code",
   "execution_count": 10,
   "outputs": [
    {
     "data": {
      "text/plain": "(437, 28)"
     },
     "execution_count": 10,
     "metadata": {},
     "output_type": "execute_result"
    }
   ],
   "source": [
    "midwest.shape"
   ],
   "metadata": {
    "collapsed": false,
    "pycharm": {
     "name": "#%%\n"
    }
   }
  },
  {
   "cell_type": "code",
   "execution_count": 11,
   "outputs": [
    {
     "name": "stdout",
     "output_type": "stream",
     "text": [
      "<class 'pandas.core.frame.DataFrame'>\n",
      "RangeIndex: 437 entries, 0 to 436\n",
      "Data columns (total 28 columns):\n",
      " #   Column                Non-Null Count  Dtype  \n",
      "---  ------                --------------  -----  \n",
      " 0   PID                   437 non-null    int64  \n",
      " 1   county                437 non-null    object \n",
      " 2   state                 437 non-null    object \n",
      " 3   area                  437 non-null    float64\n",
      " 4   poptotal              437 non-null    int64  \n",
      " 5   popdensity            437 non-null    float64\n",
      " 6   popwhite              437 non-null    int64  \n",
      " 7   popblack              437 non-null    int64  \n",
      " 8   popamerindian         437 non-null    int64  \n",
      " 9   popasian              437 non-null    int64  \n",
      " 10  popother              437 non-null    int64  \n",
      " 11  percwhite             437 non-null    float64\n",
      " 12  percblack             437 non-null    float64\n",
      " 13  percamerindan         437 non-null    float64\n",
      " 14  percasian             437 non-null    float64\n",
      " 15  percother             437 non-null    float64\n",
      " 16  popadults             437 non-null    int64  \n",
      " 17  perchsd               437 non-null    float64\n",
      " 18  percollege            437 non-null    float64\n",
      " 19  percprof              437 non-null    float64\n",
      " 20  poppovertyknown       437 non-null    int64  \n",
      " 21  percpovertyknown      437 non-null    float64\n",
      " 22  percbelowpoverty      437 non-null    float64\n",
      " 23  percchildbelowpovert  437 non-null    float64\n",
      " 24  percadultpoverty      437 non-null    float64\n",
      " 25  percelderlypoverty    437 non-null    float64\n",
      " 26  inmetro               437 non-null    int64  \n",
      " 27  category              437 non-null    object \n",
      "dtypes: float64(15), int64(10), object(3)\n",
      "memory usage: 95.7+ KB\n"
     ]
    }
   ],
   "source": [
    "midwest.info()"
   ],
   "metadata": {
    "collapsed": false,
    "pycharm": {
     "name": "#%%\n"
    }
   }
  },
  {
   "cell_type": "code",
   "execution_count": 13,
   "outputs": [
    {
     "data": {
      "text/plain": "               PID        area      poptotal    popdensity      popwhite  \\\ncount   437.000000  437.000000  4.370000e+02    437.000000  4.370000e+02   \nmean   1437.338673    0.033169  9.613030e+04   3097.742985  8.183992e+04   \nstd     876.390266    0.014679  2.981705e+05   7664.751786  2.001966e+05   \nmin     561.000000    0.005000  1.701000e+03     85.050000  4.160000e+02   \n25%     670.000000    0.024000  1.884000e+04    622.407407  1.863000e+04   \n50%    1221.000000    0.030000  3.532400e+04   1156.208330  3.447100e+04   \n75%    2059.000000    0.038000  7.565100e+04   2330.000000  7.296800e+04   \nmax    3052.000000    0.110000  5.105067e+06  88018.396600  3.204947e+06   \n\n           popblack  popamerindian       popasian       popother   percwhite  \\\ncount  4.370000e+02     437.000000     437.000000     437.000000  437.000000   \nmean   1.102388e+04     343.109840    1310.464531    1612.931350   95.558441   \nstd    7.895827e+04     868.926751    9518.394189   18526.540699    7.087358   \nmin    0.000000e+00       4.000000       0.000000       0.000000   10.694087   \n25%    2.900000e+01      44.000000      35.000000      20.000000   94.886032   \n50%    2.010000e+02      94.000000     102.000000      66.000000   98.032742   \n75%    1.291000e+03     288.000000     401.000000     345.000000   99.074935   \nmax    1.317147e+06   10289.000000  188565.000000  384119.000000   99.822821   \n\n       ...     perchsd  percollege    percprof  poppovertyknown  \\\ncount  ...  437.000000  437.000000  437.000000     4.370000e+02   \nmean   ...   73.965546   18.272736    4.447259     9.364228e+04   \nstd    ...    5.843177    6.261908    2.408427     2.932351e+05   \nmin    ...   46.912261    7.336108    0.520291     1.696000e+03   \n25%    ...   71.325329   14.113725    2.997957     1.836400e+04   \n50%    ...   74.246891   16.797562    3.814239     3.378800e+04   \n75%    ...   77.195345   20.549893    4.949324     7.284000e+04   \nmax    ...   88.898674   48.078510   20.791321     5.023523e+06   \n\n       percpovertyknown  percbelowpoverty  percchildbelowpovert  \\\ncount        437.000000        437.000000            437.000000   \nmean          97.110267         12.510505             16.447464   \nstd            2.749863          5.150155              7.228634   \nmin           80.902441          2.180168              1.918955   \n25%           96.894572          9.198715             11.624088   \n50%           98.169562         11.822313             15.270164   \n75%           98.598636         15.133226             20.351878   \nmax           99.860384         48.691099             64.308477   \n\n       percadultpoverty  percelderlypoverty     inmetro  \ncount        437.000000          437.000000  437.000000  \nmean          10.918798           11.389043    0.343249  \nstd            5.109166            3.661259    0.475338  \nmin            1.938504            3.547067    0.000000  \n25%            7.668009            8.911763    0.000000  \n50%           10.007610           10.869119    0.000000  \n75%           13.182182           13.412162    1.000000  \nmax           43.312464           31.161972    1.000000  \n\n[8 rows x 25 columns]",
      "text/html": "<div>\n<style scoped>\n    .dataframe tbody tr th:only-of-type {\n        vertical-align: middle;\n    }\n\n    .dataframe tbody tr th {\n        vertical-align: top;\n    }\n\n    .dataframe thead th {\n        text-align: right;\n    }\n</style>\n<table border=\"1\" class=\"dataframe\">\n  <thead>\n    <tr style=\"text-align: right;\">\n      <th></th>\n      <th>PID</th>\n      <th>area</th>\n      <th>poptotal</th>\n      <th>popdensity</th>\n      <th>popwhite</th>\n      <th>popblack</th>\n      <th>popamerindian</th>\n      <th>popasian</th>\n      <th>popother</th>\n      <th>percwhite</th>\n      <th>...</th>\n      <th>perchsd</th>\n      <th>percollege</th>\n      <th>percprof</th>\n      <th>poppovertyknown</th>\n      <th>percpovertyknown</th>\n      <th>percbelowpoverty</th>\n      <th>percchildbelowpovert</th>\n      <th>percadultpoverty</th>\n      <th>percelderlypoverty</th>\n      <th>inmetro</th>\n    </tr>\n  </thead>\n  <tbody>\n    <tr>\n      <th>count</th>\n      <td>437.000000</td>\n      <td>437.000000</td>\n      <td>4.370000e+02</td>\n      <td>437.000000</td>\n      <td>4.370000e+02</td>\n      <td>4.370000e+02</td>\n      <td>437.000000</td>\n      <td>437.000000</td>\n      <td>437.000000</td>\n      <td>437.000000</td>\n      <td>...</td>\n      <td>437.000000</td>\n      <td>437.000000</td>\n      <td>437.000000</td>\n      <td>4.370000e+02</td>\n      <td>437.000000</td>\n      <td>437.000000</td>\n      <td>437.000000</td>\n      <td>437.000000</td>\n      <td>437.000000</td>\n      <td>437.000000</td>\n    </tr>\n    <tr>\n      <th>mean</th>\n      <td>1437.338673</td>\n      <td>0.033169</td>\n      <td>9.613030e+04</td>\n      <td>3097.742985</td>\n      <td>8.183992e+04</td>\n      <td>1.102388e+04</td>\n      <td>343.109840</td>\n      <td>1310.464531</td>\n      <td>1612.931350</td>\n      <td>95.558441</td>\n      <td>...</td>\n      <td>73.965546</td>\n      <td>18.272736</td>\n      <td>4.447259</td>\n      <td>9.364228e+04</td>\n      <td>97.110267</td>\n      <td>12.510505</td>\n      <td>16.447464</td>\n      <td>10.918798</td>\n      <td>11.389043</td>\n      <td>0.343249</td>\n    </tr>\n    <tr>\n      <th>std</th>\n      <td>876.390266</td>\n      <td>0.014679</td>\n      <td>2.981705e+05</td>\n      <td>7664.751786</td>\n      <td>2.001966e+05</td>\n      <td>7.895827e+04</td>\n      <td>868.926751</td>\n      <td>9518.394189</td>\n      <td>18526.540699</td>\n      <td>7.087358</td>\n      <td>...</td>\n      <td>5.843177</td>\n      <td>6.261908</td>\n      <td>2.408427</td>\n      <td>2.932351e+05</td>\n      <td>2.749863</td>\n      <td>5.150155</td>\n      <td>7.228634</td>\n      <td>5.109166</td>\n      <td>3.661259</td>\n      <td>0.475338</td>\n    </tr>\n    <tr>\n      <th>min</th>\n      <td>561.000000</td>\n      <td>0.005000</td>\n      <td>1.701000e+03</td>\n      <td>85.050000</td>\n      <td>4.160000e+02</td>\n      <td>0.000000e+00</td>\n      <td>4.000000</td>\n      <td>0.000000</td>\n      <td>0.000000</td>\n      <td>10.694087</td>\n      <td>...</td>\n      <td>46.912261</td>\n      <td>7.336108</td>\n      <td>0.520291</td>\n      <td>1.696000e+03</td>\n      <td>80.902441</td>\n      <td>2.180168</td>\n      <td>1.918955</td>\n      <td>1.938504</td>\n      <td>3.547067</td>\n      <td>0.000000</td>\n    </tr>\n    <tr>\n      <th>25%</th>\n      <td>670.000000</td>\n      <td>0.024000</td>\n      <td>1.884000e+04</td>\n      <td>622.407407</td>\n      <td>1.863000e+04</td>\n      <td>2.900000e+01</td>\n      <td>44.000000</td>\n      <td>35.000000</td>\n      <td>20.000000</td>\n      <td>94.886032</td>\n      <td>...</td>\n      <td>71.325329</td>\n      <td>14.113725</td>\n      <td>2.997957</td>\n      <td>1.836400e+04</td>\n      <td>96.894572</td>\n      <td>9.198715</td>\n      <td>11.624088</td>\n      <td>7.668009</td>\n      <td>8.911763</td>\n      <td>0.000000</td>\n    </tr>\n    <tr>\n      <th>50%</th>\n      <td>1221.000000</td>\n      <td>0.030000</td>\n      <td>3.532400e+04</td>\n      <td>1156.208330</td>\n      <td>3.447100e+04</td>\n      <td>2.010000e+02</td>\n      <td>94.000000</td>\n      <td>102.000000</td>\n      <td>66.000000</td>\n      <td>98.032742</td>\n      <td>...</td>\n      <td>74.246891</td>\n      <td>16.797562</td>\n      <td>3.814239</td>\n      <td>3.378800e+04</td>\n      <td>98.169562</td>\n      <td>11.822313</td>\n      <td>15.270164</td>\n      <td>10.007610</td>\n      <td>10.869119</td>\n      <td>0.000000</td>\n    </tr>\n    <tr>\n      <th>75%</th>\n      <td>2059.000000</td>\n      <td>0.038000</td>\n      <td>7.565100e+04</td>\n      <td>2330.000000</td>\n      <td>7.296800e+04</td>\n      <td>1.291000e+03</td>\n      <td>288.000000</td>\n      <td>401.000000</td>\n      <td>345.000000</td>\n      <td>99.074935</td>\n      <td>...</td>\n      <td>77.195345</td>\n      <td>20.549893</td>\n      <td>4.949324</td>\n      <td>7.284000e+04</td>\n      <td>98.598636</td>\n      <td>15.133226</td>\n      <td>20.351878</td>\n      <td>13.182182</td>\n      <td>13.412162</td>\n      <td>1.000000</td>\n    </tr>\n    <tr>\n      <th>max</th>\n      <td>3052.000000</td>\n      <td>0.110000</td>\n      <td>5.105067e+06</td>\n      <td>88018.396600</td>\n      <td>3.204947e+06</td>\n      <td>1.317147e+06</td>\n      <td>10289.000000</td>\n      <td>188565.000000</td>\n      <td>384119.000000</td>\n      <td>99.822821</td>\n      <td>...</td>\n      <td>88.898674</td>\n      <td>48.078510</td>\n      <td>20.791321</td>\n      <td>5.023523e+06</td>\n      <td>99.860384</td>\n      <td>48.691099</td>\n      <td>64.308477</td>\n      <td>43.312464</td>\n      <td>31.161972</td>\n      <td>1.000000</td>\n    </tr>\n  </tbody>\n</table>\n<p>8 rows × 25 columns</p>\n</div>"
     },
     "execution_count": 13,
     "metadata": {},
     "output_type": "execute_result"
    }
   ],
   "source": [
    "midwest.describe()"
   ],
   "metadata": {
    "collapsed": false,
    "pycharm": {
     "name": "#%%\n"
    }
   }
  },
  {
   "cell_type": "code",
   "execution_count": 14,
   "outputs": [],
   "source": [
    "midwest = midwest.rename(columns = {'poptotal' : 'total',\n",
    "                                    'popasian' : 'asian'})"
   ],
   "metadata": {
    "collapsed": false,
    "pycharm": {
     "name": "#%%\n"
    }
   }
  },
  {
   "cell_type": "code",
   "execution_count": 15,
   "outputs": [
    {
     "data": {
      "text/plain": "      PID     county state   area   total   popdensity  popwhite  popblack  \\\n0     561      ADAMS    IL  0.052   66090  1270.961540     63917      1702   \n1     562  ALEXANDER    IL  0.014   10626   759.000000      7054      3496   \n2     563       BOND    IL  0.022   14991   681.409091     14477       429   \n3     564      BOONE    IL  0.017   30806  1812.117650     29344       127   \n4     565      BROWN    IL  0.018    5836   324.222222      5264       547   \n..    ...        ...   ...    ...     ...          ...       ...       ...   \n432  3048   WAUKESHA    WI  0.034  304715  8962.205880    298313      1096   \n433  3049    WAUPACA    WI  0.045   46104  1024.533330     45695        22   \n434  3050   WAUSHARA    WI  0.037   19385   523.918919     19094        29   \n435  3051  WINNEBAGO    WI  0.035  140320  4009.142860    136822       697   \n436  3052       WOOD    WI  0.048   73605  1533.437500     72157        90   \n\n     popamerindian  asian  ...  percollege  percprof  poppovertyknown  \\\n0               98    249  ...   19.631392  4.355859            63628   \n1               19     48  ...   11.243308  2.870315            10529   \n2               35     16  ...   17.033819  4.488572            14235   \n3               46    150  ...   17.278954  4.197800            30337   \n4               14      5  ...   14.475999  3.367680             4815   \n..             ...    ...  ...         ...       ...              ...   \n432            672   2699  ...   35.396784  7.667090           299802   \n433            125     92  ...   16.549869  3.138596            44412   \n434             70     43  ...   15.064584  2.620907            19163   \n435            685   1728  ...   24.995504  5.659847           133950   \n436            481    722  ...   21.666382  4.583725            72685   \n\n     percpovertyknown  percbelowpoverty  percchildbelowpovert  \\\n0           96.274777         13.151443             18.011717   \n1           99.087145         32.244278             45.826514   \n2           94.956974         12.068844             14.036061   \n3           98.477569          7.209019             11.179536   \n4           82.505140         13.520249             13.022889   \n..                ...               ...                   ...   \n432         98.387674          3.121060              3.785820   \n433         96.330036          8.488697             10.071411   \n434         98.854785         13.786985             20.050708   \n435         95.460376          8.804031             10.592031   \n436         98.750085          8.525831             11.162997   \n\n     percadultpoverty  percelderlypoverty  inmetro  category  \n0           11.009776           12.443812        0       AAR  \n1           27.385647           25.228976        0       LHR  \n2           10.852090           12.697410        0       AAR  \n3            5.536013            6.217047        1       ALU  \n4           11.143211           19.200000        0       AAR  \n..                ...                 ...      ...       ...  \n432          2.590061            4.085479        1       HLU  \n433          6.953799           10.338641        0       AAR  \n434         11.695784           11.804558        0       AAR  \n435          8.660587            6.661094        1       HAU  \n436          7.375656            7.882918        0       AAR  \n\n[437 rows x 28 columns]",
      "text/html": "<div>\n<style scoped>\n    .dataframe tbody tr th:only-of-type {\n        vertical-align: middle;\n    }\n\n    .dataframe tbody tr th {\n        vertical-align: top;\n    }\n\n    .dataframe thead th {\n        text-align: right;\n    }\n</style>\n<table border=\"1\" class=\"dataframe\">\n  <thead>\n    <tr style=\"text-align: right;\">\n      <th></th>\n      <th>PID</th>\n      <th>county</th>\n      <th>state</th>\n      <th>area</th>\n      <th>total</th>\n      <th>popdensity</th>\n      <th>popwhite</th>\n      <th>popblack</th>\n      <th>popamerindian</th>\n      <th>asian</th>\n      <th>...</th>\n      <th>percollege</th>\n      <th>percprof</th>\n      <th>poppovertyknown</th>\n      <th>percpovertyknown</th>\n      <th>percbelowpoverty</th>\n      <th>percchildbelowpovert</th>\n      <th>percadultpoverty</th>\n      <th>percelderlypoverty</th>\n      <th>inmetro</th>\n      <th>category</th>\n    </tr>\n  </thead>\n  <tbody>\n    <tr>\n      <th>0</th>\n      <td>561</td>\n      <td>ADAMS</td>\n      <td>IL</td>\n      <td>0.052</td>\n      <td>66090</td>\n      <td>1270.961540</td>\n      <td>63917</td>\n      <td>1702</td>\n      <td>98</td>\n      <td>249</td>\n      <td>...</td>\n      <td>19.631392</td>\n      <td>4.355859</td>\n      <td>63628</td>\n      <td>96.274777</td>\n      <td>13.151443</td>\n      <td>18.011717</td>\n      <td>11.009776</td>\n      <td>12.443812</td>\n      <td>0</td>\n      <td>AAR</td>\n    </tr>\n    <tr>\n      <th>1</th>\n      <td>562</td>\n      <td>ALEXANDER</td>\n      <td>IL</td>\n      <td>0.014</td>\n      <td>10626</td>\n      <td>759.000000</td>\n      <td>7054</td>\n      <td>3496</td>\n      <td>19</td>\n      <td>48</td>\n      <td>...</td>\n      <td>11.243308</td>\n      <td>2.870315</td>\n      <td>10529</td>\n      <td>99.087145</td>\n      <td>32.244278</td>\n      <td>45.826514</td>\n      <td>27.385647</td>\n      <td>25.228976</td>\n      <td>0</td>\n      <td>LHR</td>\n    </tr>\n    <tr>\n      <th>2</th>\n      <td>563</td>\n      <td>BOND</td>\n      <td>IL</td>\n      <td>0.022</td>\n      <td>14991</td>\n      <td>681.409091</td>\n      <td>14477</td>\n      <td>429</td>\n      <td>35</td>\n      <td>16</td>\n      <td>...</td>\n      <td>17.033819</td>\n      <td>4.488572</td>\n      <td>14235</td>\n      <td>94.956974</td>\n      <td>12.068844</td>\n      <td>14.036061</td>\n      <td>10.852090</td>\n      <td>12.697410</td>\n      <td>0</td>\n      <td>AAR</td>\n    </tr>\n    <tr>\n      <th>3</th>\n      <td>564</td>\n      <td>BOONE</td>\n      <td>IL</td>\n      <td>0.017</td>\n      <td>30806</td>\n      <td>1812.117650</td>\n      <td>29344</td>\n      <td>127</td>\n      <td>46</td>\n      <td>150</td>\n      <td>...</td>\n      <td>17.278954</td>\n      <td>4.197800</td>\n      <td>30337</td>\n      <td>98.477569</td>\n      <td>7.209019</td>\n      <td>11.179536</td>\n      <td>5.536013</td>\n      <td>6.217047</td>\n      <td>1</td>\n      <td>ALU</td>\n    </tr>\n    <tr>\n      <th>4</th>\n      <td>565</td>\n      <td>BROWN</td>\n      <td>IL</td>\n      <td>0.018</td>\n      <td>5836</td>\n      <td>324.222222</td>\n      <td>5264</td>\n      <td>547</td>\n      <td>14</td>\n      <td>5</td>\n      <td>...</td>\n      <td>14.475999</td>\n      <td>3.367680</td>\n      <td>4815</td>\n      <td>82.505140</td>\n      <td>13.520249</td>\n      <td>13.022889</td>\n      <td>11.143211</td>\n      <td>19.200000</td>\n      <td>0</td>\n      <td>AAR</td>\n    </tr>\n    <tr>\n      <th>...</th>\n      <td>...</td>\n      <td>...</td>\n      <td>...</td>\n      <td>...</td>\n      <td>...</td>\n      <td>...</td>\n      <td>...</td>\n      <td>...</td>\n      <td>...</td>\n      <td>...</td>\n      <td>...</td>\n      <td>...</td>\n      <td>...</td>\n      <td>...</td>\n      <td>...</td>\n      <td>...</td>\n      <td>...</td>\n      <td>...</td>\n      <td>...</td>\n      <td>...</td>\n      <td>...</td>\n    </tr>\n    <tr>\n      <th>432</th>\n      <td>3048</td>\n      <td>WAUKESHA</td>\n      <td>WI</td>\n      <td>0.034</td>\n      <td>304715</td>\n      <td>8962.205880</td>\n      <td>298313</td>\n      <td>1096</td>\n      <td>672</td>\n      <td>2699</td>\n      <td>...</td>\n      <td>35.396784</td>\n      <td>7.667090</td>\n      <td>299802</td>\n      <td>98.387674</td>\n      <td>3.121060</td>\n      <td>3.785820</td>\n      <td>2.590061</td>\n      <td>4.085479</td>\n      <td>1</td>\n      <td>HLU</td>\n    </tr>\n    <tr>\n      <th>433</th>\n      <td>3049</td>\n      <td>WAUPACA</td>\n      <td>WI</td>\n      <td>0.045</td>\n      <td>46104</td>\n      <td>1024.533330</td>\n      <td>45695</td>\n      <td>22</td>\n      <td>125</td>\n      <td>92</td>\n      <td>...</td>\n      <td>16.549869</td>\n      <td>3.138596</td>\n      <td>44412</td>\n      <td>96.330036</td>\n      <td>8.488697</td>\n      <td>10.071411</td>\n      <td>6.953799</td>\n      <td>10.338641</td>\n      <td>0</td>\n      <td>AAR</td>\n    </tr>\n    <tr>\n      <th>434</th>\n      <td>3050</td>\n      <td>WAUSHARA</td>\n      <td>WI</td>\n      <td>0.037</td>\n      <td>19385</td>\n      <td>523.918919</td>\n      <td>19094</td>\n      <td>29</td>\n      <td>70</td>\n      <td>43</td>\n      <td>...</td>\n      <td>15.064584</td>\n      <td>2.620907</td>\n      <td>19163</td>\n      <td>98.854785</td>\n      <td>13.786985</td>\n      <td>20.050708</td>\n      <td>11.695784</td>\n      <td>11.804558</td>\n      <td>0</td>\n      <td>AAR</td>\n    </tr>\n    <tr>\n      <th>435</th>\n      <td>3051</td>\n      <td>WINNEBAGO</td>\n      <td>WI</td>\n      <td>0.035</td>\n      <td>140320</td>\n      <td>4009.142860</td>\n      <td>136822</td>\n      <td>697</td>\n      <td>685</td>\n      <td>1728</td>\n      <td>...</td>\n      <td>24.995504</td>\n      <td>5.659847</td>\n      <td>133950</td>\n      <td>95.460376</td>\n      <td>8.804031</td>\n      <td>10.592031</td>\n      <td>8.660587</td>\n      <td>6.661094</td>\n      <td>1</td>\n      <td>HAU</td>\n    </tr>\n    <tr>\n      <th>436</th>\n      <td>3052</td>\n      <td>WOOD</td>\n      <td>WI</td>\n      <td>0.048</td>\n      <td>73605</td>\n      <td>1533.437500</td>\n      <td>72157</td>\n      <td>90</td>\n      <td>481</td>\n      <td>722</td>\n      <td>...</td>\n      <td>21.666382</td>\n      <td>4.583725</td>\n      <td>72685</td>\n      <td>98.750085</td>\n      <td>8.525831</td>\n      <td>11.162997</td>\n      <td>7.375656</td>\n      <td>7.882918</td>\n      <td>0</td>\n      <td>AAR</td>\n    </tr>\n  </tbody>\n</table>\n<p>437 rows × 28 columns</p>\n</div>"
     },
     "execution_count": 15,
     "metadata": {},
     "output_type": "execute_result"
    }
   ],
   "source": [
    "midwest"
   ],
   "metadata": {
    "collapsed": false,
    "pycharm": {
     "name": "#%%\n"
    }
   }
  },
  {
   "cell_type": "code",
   "execution_count": 16,
   "outputs": [],
   "source": [
    "midwest['ratio'] = midwest['asian'] / midwest['total'] * 100"
   ],
   "metadata": {
    "collapsed": false,
    "pycharm": {
     "name": "#%%\n"
    }
   }
  },
  {
   "cell_type": "code",
   "execution_count": 18,
   "outputs": [
    {
     "data": {
      "text/plain": "<AxesSubplot:ylabel='Frequency'>"
     },
     "execution_count": 18,
     "metadata": {},
     "output_type": "execute_result"
    },
    {
     "data": {
      "text/plain": "<Figure size 432x288 with 1 Axes>",
      "image/png": "[encoded data removed]"
     },
     "metadata": {
      "needs_background": "light"
     },
     "output_type": "display_data"
    }
   ],
   "source": [
    "midwest['ratio'].plot.hist()"
   ],
   "metadata": {
    "collapsed": false,
    "pycharm": {
     "name": "#%%\n"
    }
   }
  },
  {
   "cell_type": "code",
   "execution_count": 19,
   "outputs": [
    {
     "data": {
      "text/plain": "0.48724618343573406"
     },
     "execution_count": 19,
     "metadata": {},
     "output_type": "execute_result"
    }
   ],
   "source": [
    "midwest['ratio'].mean()"
   ],
   "metadata": {
    "collapsed": false,
    "pycharm": {
     "name": "#%%\n"
    }
   }
  },
  {
   "cell_type": "code",
   "execution_count": 20,
   "outputs": [
    {
     "data": {
      "text/plain": "count    437.000000\nmean       0.487246\nstd        0.627856\nmin        0.000000\n25%        0.173739\n50%        0.297170\n75%        0.521161\nmax        5.070452\nName: ratio, dtype: float64"
     },
     "execution_count": 20,
     "metadata": {},
     "output_type": "execute_result"
    }
   ],
   "source": [
    "midwest['ratio'].describe()"
   ],
   "metadata": {
    "collapsed": false,
    "pycharm": {
     "name": "#%%\n"
    }
   }
  },
  {
   "cell_type": "code",
   "execution_count": 21,
   "outputs": [],
   "source": [
    "midwest['size'] = np.where(midwest['ratio'] > 0.48, 'large', 'small')"
   ],
   "metadata": {
    "collapsed": false,
    "pycharm": {
     "name": "#%%\n"
    }
   }
  },
  {
   "cell_type": "code",
   "execution_count": 22,
   "outputs": [
    {
     "data": {
      "text/plain": "   PID     county state   area  total   popdensity  popwhite  popblack  \\\n0  561      ADAMS    IL  0.052  66090  1270.961540     63917      1702   \n1  562  ALEXANDER    IL  0.014  10626   759.000000      7054      3496   \n2  563       BOND    IL  0.022  14991   681.409091     14477       429   \n3  564      BOONE    IL  0.017  30806  1812.117650     29344       127   \n4  565      BROWN    IL  0.018   5836   324.222222      5264       547   \n\n   popamerindian  asian  ...  poppovertyknown  percpovertyknown  \\\n0             98    249  ...            63628         96.274777   \n1             19     48  ...            10529         99.087145   \n2             35     16  ...            14235         94.956974   \n3             46    150  ...            30337         98.477569   \n4             14      5  ...             4815         82.505140   \n\n   percbelowpoverty  percchildbelowpovert  percadultpoverty  \\\n0         13.151443             18.011717         11.009776   \n1         32.244278             45.826514         27.385647   \n2         12.068844             14.036061         10.852090   \n3          7.209019             11.179536          5.536013   \n4         13.520249             13.022889         11.143211   \n\n   percelderlypoverty  inmetro  category     ratio   size  \n0           12.443812        0       AAR  0.376759  small  \n1           25.228976        0       LHR  0.451722  small  \n2           12.697410        0       AAR  0.106731  small  \n3            6.217047        1       ALU  0.486918  large  \n4           19.200000        0       AAR  0.085675  small  \n\n[5 rows x 30 columns]",
      "text/html": "<div>\n<style scoped>\n    .dataframe tbody tr th:only-of-type {\n        vertical-align: middle;\n    }\n\n    .dataframe tbody tr th {\n        vertical-align: top;\n    }\n\n    .dataframe thead th {\n        text-align: right;\n    }\n</style>\n<table border=\"1\" class=\"dataframe\">\n  <thead>\n    <tr style=\"text-align: right;\">\n      <th></th>\n      <th>PID</th>\n      <th>county</th>\n      <th>state</th>\n      <th>area</th>\n      <th>total</th>\n      <th>popdensity</th>\n      <th>popwhite</th>\n      <th>popblack</th>\n      <th>popamerindian</th>\n      <th>asian</th>\n      <th>...</th>\n      <th>poppovertyknown</th>\n      <th>percpovertyknown</th>\n      <th>percbelowpoverty</th>\n      <th>percchildbelowpovert</th>\n      <th>percadultpoverty</th>\n      <th>percelderlypoverty</th>\n      <th>inmetro</th>\n      <th>category</th>\n      <th>ratio</th>\n      <th>size</th>\n    </tr>\n  </thead>\n  <tbody>\n    <tr>\n      <th>0</th>\n      <td>561</td>\n      <td>ADAMS</td>\n      <td>IL</td>\n      <td>0.052</td>\n      <td>66090</td>\n      <td>1270.961540</td>\n      <td>63917</td>\n      <td>1702</td>\n      <td>98</td>\n      <td>249</td>\n      <td>...</td>\n      <td>63628</td>\n      <td>96.274777</td>\n      <td>13.151443</td>\n      <td>18.011717</td>\n      <td>11.009776</td>\n      <td>12.443812</td>\n      <td>0</td>\n      <td>AAR</td>\n      <td>0.376759</td>\n      <td>small</td>\n    </tr>\n    <tr>\n      <th>1</th>\n      <td>562</td>\n      <td>ALEXANDER</td>\n      <td>IL</td>\n      <td>0.014</td>\n      <td>10626</td>\n      <td>759.000000</td>\n      <td>7054</td>\n      <td>3496</td>\n      <td>19</td>\n      <td>48</td>\n      <td>...</td>\n      <td>10529</td>\n      <td>99.087145</td>\n      <td>32.244278</td>\n      <td>45.826514</td>\n      <td>27.385647</td>\n      <td>25.228976</td>\n      <td>0</td>\n      <td>LHR</td>\n      <td>0.451722</td>\n      <td>small</td>\n    </tr>\n    <tr>\n      <th>2</th>\n      <td>563</td>\n      <td>BOND</td>\n      <td>IL</td>\n      <td>0.022</td>\n      <td>14991</td>\n      <td>681.409091</td>\n      <td>14477</td>\n      <td>429</td>\n      <td>35</td>\n      <td>16</td>\n      <td>...</td>\n      <td>14235</td>\n      <td>94.956974</td>\n      <td>12.068844</td>\n      <td>14.036061</td>\n      <td>10.852090</td>\n      <td>12.697410</td>\n      <td>0</td>\n      <td>AAR</td>\n      <td>0.106731</td>\n      <td>small</td>\n    </tr>\n    <tr>\n      <th>3</th>\n      <td>564</td>\n      <td>BOONE</td>\n      <td>IL</td>\n      <td>0.017</td>\n      <td>30806</td>\n      <td>1812.117650</td>\n      <td>29344</td>\n      <td>127</td>\n      <td>46</td>\n      <td>150</td>\n      <td>...</td>\n      <td>30337</td>\n      <td>98.477569</td>\n      <td>7.209019</td>\n      <td>11.179536</td>\n      <td>5.536013</td>\n      <td>6.217047</td>\n      <td>1</td>\n      <td>ALU</td>\n      <td>0.486918</td>\n      <td>large</td>\n    </tr>\n    <tr>\n      <th>4</th>\n      <td>565</td>\n      <td>BROWN</td>\n      <td>IL</td>\n      <td>0.018</td>\n      <td>5836</td>\n      <td>324.222222</td>\n      <td>5264</td>\n      <td>547</td>\n      <td>14</td>\n      <td>5</td>\n      <td>...</td>\n      <td>4815</td>\n      <td>82.505140</td>\n      <td>13.520249</td>\n      <td>13.022889</td>\n      <td>11.143211</td>\n      <td>19.200000</td>\n      <td>0</td>\n      <td>AAR</td>\n      <td>0.085675</td>\n      <td>small</td>\n    </tr>\n  </tbody>\n</table>\n<p>5 rows × 30 columns</p>\n</div>"
     },
     "execution_count": 22,
     "metadata": {},
     "output_type": "execute_result"
    }
   ],
   "source": [
    "midwest.head()"
   ],
   "metadata": {
    "collapsed": false,
    "pycharm": {
     "name": "#%%\n"
    }
   }
  },
  {
   "cell_type": "code",
   "execution_count": 23,
   "outputs": [],
   "source": [
    "count_size = midwest['size'].value_counts()"
   ],
   "metadata": {
    "collapsed": false,
    "pycharm": {
     "name": "#%%\n"
    }
   }
  },
  {
   "cell_type": "code",
   "execution_count": 24,
   "outputs": [
    {
     "data": {
      "text/plain": "small    316\nlarge    121\nName: size, dtype: int64"
     },
     "execution_count": 24,
     "metadata": {},
     "output_type": "execute_result"
    }
   ],
   "source": [
    "count_size"
   ],
   "metadata": {
    "collapsed": false,
    "pycharm": {
     "name": "#%%\n"
    }
   }
  },
  {
   "cell_type": "code",
   "execution_count": 25,
   "outputs": [
    {
     "data": {
      "text/plain": "<AxesSubplot:>"
     },
     "execution_count": 25,
     "metadata": {},
     "output_type": "execute_result"
    },
    {
     "data": {
      "text/plain": "<Figure size 432x288 with 1 Axes>",
      "image/png": "[encoded data removed]"
     },
     "metadata": {
      "needs_background": "light"
     },
     "output_type": "display_data"
    }
   ],
   "source": [
    "count_size.plot.bar(rot = 0)"
   ],
   "metadata": {
    "collapsed": false,
    "pycharm": {
     "name": "#%%\n"
    }
   }
  },
  {
   "cell_type": "code",
   "execution_count": null,
   "outputs": [],
   "source": [],
   "metadata": {
    "collapsed": false,
    "pycharm": {
     "name": "#%%\n"
    }
   }
  }
 ],
 "metadata": {
  "kernelspec": {
   "display_name": "Python 3",
   "language": "python",
   "name": "python3"
  },
  "language_info": {
   "codemirror_mode": {
    "name": "ipython",
    "version": 2
   },
   "file_extension": ".py",
   "mimetype": "text/x-python",
   "name": "python",
   "nbconvert_exporter": "python",
   "pygments_lexer": "ipython2",
   "version": "2.7.6"
  }
 },
 "nbformat": 4,
 "nbformat_minor": 0
}