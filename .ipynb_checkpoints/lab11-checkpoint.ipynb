{
 "cells": [
  {
   "cell_type": "markdown",
   "id": "62abf18e",
   "metadata": {},
   "source": [
    "# 11-1 시군구별 인구 단계 구분도 만들기"
   ]
  },
  {
   "cell_type": "markdown",
   "id": "ff79c83a",
   "metadata": {},
   "source": [
    "## 시군구별 인구 단계 구분도 만들기"
   ]
  },
  {
   "cell_type": "markdown",
   "id": "1d7976a3",
   "metadata": {},
   "source": [
    "### 1. 시군구 경계 지도 데이터 준비하기"
   ]
  },
  {
   "cell_type": "code",
   "execution_count": null,
   "id": "b29b6ca5",
   "metadata": {},
   "outputs": [],
   "source": [
    "import json"
   ]
  },
  {
   "cell_type": "code",
   "execution_count": null,
   "id": "01132c2a",
   "metadata": {},
   "outputs": [],
   "source": [
    "geo = json.load(open('SIG.geojson', encoding = 'UTF-8'))"
   ]
  },
  {
   "cell_type": "code",
   "execution_count": null,
   "id": "1d7dea77",
   "metadata": {},
   "outputs": [],
   "source": [
    "# 행정 구역 코드 출력\n",
    "geo['features'][0]['properties']"
   ]
  },
  {
   "cell_type": "code",
   "execution_count": null,
   "id": "a507f28c",
   "metadata": {},
   "outputs": [],
   "source": [
    "# 위도, 경도 좌표 출력\n",
    "geo['features'][0]['geometry']"
   ]
  },
  {
   "cell_type": "markdown",
   "id": "67b408c9",
   "metadata": {},
   "source": [
    "### 2. 시군구별 인구 데이터 준비하기"
   ]
  },
  {
   "cell_type": "code",
   "execution_count": null,
   "id": "ec444aba",
   "metadata": {},
   "outputs": [],
   "source": [
    "import pandas as pd\n",
    "df_pop = pd.read_csv('Population_SIG.csv')\n",
    "df_pop.head()"
   ]
  },
  {
   "cell_type": "code",
   "execution_count": null,
   "id": "aa2ec110",
   "metadata": {},
   "outputs": [],
   "source": [
    "df_pop.info()"
   ]
  },
  {
   "cell_type": "code",
   "execution_count": null,
   "id": "e67d7f67",
   "metadata": {},
   "outputs": [],
   "source": [
    "df_pop['code'] = df_pop['code'].astype(str)"
   ]
  },
  {
   "cell_type": "markdown",
   "id": "a0094087",
   "metadata": {},
   "source": [
    "### 3. 단계 구분도 만들기"
   ]
  },
  {
   "cell_type": "code",
   "execution_count": null,
   "id": "a5a6feb5",
   "metadata": {},
   "outputs": [],
   "source": [
    "pip install folium"
   ]
  },
  {
   "cell_type": "markdown",
   "id": "a311b7c9",
   "metadata": {},
   "source": [
    "#### (1) 배경 지도 만들기"
   ]
  },
  {
   "cell_type": "code",
   "execution_count": null,
   "id": "45e74bb7",
   "metadata": {},
   "outputs": [],
   "source": [
    "import folium"
   ]
  },
  {
   "cell_type": "code",
   "execution_count": null,
   "id": "c3d330aa",
   "metadata": {},
   "outputs": [],
   "source": [
    "folium.Map(location = [35.95, 127.7],\n",
    "            zoom_start = 8)"
   ]
  },
  {
   "cell_type": "code",
   "execution_count": null,
   "id": "5ee7d045",
   "metadata": {},
   "outputs": [],
   "source": [
    "map_sig = folium.Map(location = [35.95, 127.7],\n",
    "                    zoom_start = 8,\n",
    "                    tiles = 'cartodbpositron')"
   ]
  },
  {
   "cell_type": "code",
   "execution_count": null,
   "id": "c0f0812d",
   "metadata": {},
   "outputs": [],
   "source": [
    "map_sig"
   ]
  },
  {
   "cell_type": "markdown",
   "id": "6eebcff9",
   "metadata": {},
   "source": [
    "#### (2) 단계 구분도 만들기"
   ]
  },
  {
   "cell_type": "code",
   "execution_count": null,
   "id": "278f2aa1",
   "metadata": {},
   "outputs": [],
   "source": [
    "folium.Choropleth(\n",
    "    geo_data = geo,\n",
    "    data = df_pop,\n",
    "    columns = ('code', 'pop'),\n",
    "    key_on = 'feature.properties.SIG_CD').add_to(map_sig)"
   ]
  },
  {
   "cell_type": "code",
   "execution_count": null,
   "id": "0ab90b39",
   "metadata": {},
   "outputs": [],
   "source": [
    "map_sig"
   ]
  },
  {
   "cell_type": "markdown",
   "id": "cfa6e980",
   "metadata": {},
   "source": [
    "#### (3) 계급 구간 정하기"
   ]
  },
  {
   "cell_type": "code",
   "execution_count": null,
   "id": "4353d6c8",
   "metadata": {},
   "outputs": [],
   "source": [
    "bins = list(df_pop['pop'].quantile([0, 0.2, 0.4, 0.6, 0.8, 1]))\n",
    "bins"
   ]
  },
  {
   "cell_type": "markdown",
   "id": "59174591",
   "metadata": {},
   "source": [
    "#### (4) 디자인 수정하기"
   ]
  },
  {
   "cell_type": "code",
   "execution_count": null,
   "id": "761a521e",
   "metadata": {},
   "outputs": [],
   "source": [
    "# 배경 지도 만들기\n",
    "map_sig = folium.Map(location = [35.95, 127.7],\n",
    "                    zoom_start = 8,\n",
    "                    tiles = 'cartodbpositron')"
   ]
  },
  {
   "cell_type": "code",
   "execution_count": null,
   "id": "58886473",
   "metadata": {},
   "outputs": [],
   "source": [
    "map_sig"
   ]
  },
  {
   "cell_type": "code",
   "execution_count": null,
   "id": "8b929264",
   "metadata": {},
   "outputs": [],
   "source": [
    "\n",
    "folium.Choropleth(geo_data = geo,\n",
    "                  data = df_pop,\n",
    "                  columns = ('code', 'pop'),\n",
    "                  key_on = 'feature.properties.SIG_CD',\n",
    "                  fill_color = 'YlGnBu',\n",
    "                  fill_opacity = 1,\n",
    "                  line_opacity = 0.5,\n",
    "                  bins = bins) \\\n",
    "      .add_to(map_sig)\n",
    "\n",
    "map_sig"
   ]
  },
  {
   "cell_type": "markdown",
   "id": "8f50151b",
   "metadata": {},
   "source": [
    "# 11-2 서울시 동별 외국인 인구 단계 구분도 만들기"
   ]
  },
  {
   "cell_type": "markdown",
   "id": "b14b8eb2",
   "metadata": {},
   "source": [
    "## 서울시 동별 외국인 인구 단계 구분도 만들기"
   ]
  },
  {
   "cell_type": "markdown",
   "id": "c2c7143d",
   "metadata": {},
   "source": [
    "### 1. 서울시 동 경게 지도 데이터 준비하기"
   ]
  },
  {
   "cell_type": "code",
   "execution_count": null,
   "id": "00bf86d4",
   "metadata": {},
   "outputs": [],
   "source": [
    "import json\n",
    "geo_seoul = json.load(open('EMD_Seoul.geojson', encoding = 'UTF-8'))"
   ]
  },
  {
   "cell_type": "code",
   "execution_count": null,
   "id": "0d3e65f0",
   "metadata": {},
   "outputs": [],
   "source": [
    "# 행정 구역 코드 출력\n",
    "geo_seoul['features'][0]['properties']"
   ]
  },
  {
   "cell_type": "code",
   "execution_count": null,
   "id": "48bc30ba",
   "metadata": {},
   "outputs": [],
   "source": [
    "# 위도, 경도 출력\n",
    "geo_seoul['features'][0]['geometry']"
   ]
  },
  {
   "cell_type": "markdown",
   "id": "8dc00320",
   "metadata": {},
   "source": [
    "### 2. 서울시 동별 외국인 인구 데이터 준비하기"
   ]
  },
  {
   "cell_type": "code",
   "execution_count": null,
   "id": "f638f4ef",
   "metadata": {},
   "outputs": [],
   "source": [
    "foreigner = pd.read_csv('Foreigner_EMD_Seoul.csv')"
   ]
  },
  {
   "cell_type": "code",
   "execution_count": null,
   "id": "faafff30",
   "metadata": {},
   "outputs": [],
   "source": [
    "foreigner.head()"
   ]
  },
  {
   "cell_type": "code",
   "execution_count": null,
   "id": "7b26f947",
   "metadata": {},
   "outputs": [],
   "source": [
    "foreigner.info()"
   ]
  },
  {
   "cell_type": "code",
   "execution_count": null,
   "id": "316ca3d4",
   "metadata": {},
   "outputs": [],
   "source": [
    "foreigner['code'] = foreigner['code'].astype(str)"
   ]
  },
  {
   "cell_type": "markdown",
   "id": "94afb10c",
   "metadata": {},
   "source": [
    "### 3. 단계 구분도 만들기"
   ]
  },
  {
   "cell_type": "code",
   "execution_count": null,
   "id": "b6746469",
   "metadata": {},
   "outputs": [],
   "source": [
    "bins = list(foreigner[\"pop\"].quantile([0, 0.1, 0.2, 0.3, 0.4, 0.5, 0.6, 0.7, 0.8, 0.9, 1.0]))\n",
    "bins"
   ]
  },
  {
   "cell_type": "code",
   "execution_count": null,
   "id": "b62217b2",
   "metadata": {},
   "outputs": [],
   "source": [
    "## 배경 지도 만들기\n",
    "\n",
    "# 서울 좌표\n",
    "# 확대 단계\n",
    "# 지도 종류\n",
    "map_seoul = folium.Map(location = [37.56, 127],   \n",
    "                       zoom_start = 12,           \n",
    "                       tiles = 'cartodbpositron') "
   ]
  },
  {
   "cell_type": "code",
   "execution_count": null,
   "id": "44fbf61d",
   "metadata": {},
   "outputs": [],
   "source": [
    "## 단계구분도 만들기\n",
    "\n",
    "# 지도 데이터\n",
    "# 통계 데이터\n",
    "# foreigner 행정 구역 코드, 인구\n",
    "# geo_seoul 행정 구역 코드\n",
    "# 컬러맵\n",
    "# 결측치 색깔\n",
    "# 투명도\n",
    "# 경계선 투명도\n",
    "# 계급 구간 기준값\n",
    "# 배경 지도에 추가\n",
    "folium.Choropleth(geo_data = geo_seoul,\n",
    "                  data = foreigner,\n",
    "                  columns = ('code', 'pop'),\n",
    "                  key_on = 'feature.properties.ADM_DR_CD',\n",
    "                  fill_color = 'Blues',\n",
    "                  nan_fill_color = 'White',\n",
    "                  fill_opacity = 1,\n",
    "                  line_opacity = 0.5,\n",
    "                  bins = bins) \\\n",
    "      .add_to(map_seoul)\n",
    "\n",
    "map_seoul"
   ]
  },
  {
   "cell_type": "code",
   "execution_count": null,
   "id": "520093f4",
   "metadata": {},
   "outputs": [],
   "source": [
    "## 서울 구 라인 추가\n",
    "\n",
    "# 지도 데이터\n",
    "# 투명도\n",
    "# 선 두께\n",
    "# 지도에 추가\n",
    "folium.Choropleth(geo_data = geo_seoul_sig,\n",
    "                  fill_opacity = 0,\n",
    "                  line_weight = 4) \\\n",
    "      .add_to(map_seoul)\n",
    "\n",
    "map_seoul"
   ]
  },
  {
   "cell_type": "code",
   "execution_count": null,
   "id": "d5c88894",
   "metadata": {},
   "outputs": [],
   "source": []
  }
 ],
 "metadata": {
  "kernelspec": {
   "display_name": "Python 3 (ipykernel)",
   "language": "python",
   "name": "python3"
  },
  "language_info": {
   "codemirror_mode": {
    "name": "ipython",
    "version": 3
   },
   "file_extension": ".py",
   "mimetype": "text/x-python",
   "name": "python",
   "nbconvert_exporter": "python",
   "pygments_lexer": "ipython3",
   "version": "3.9.12"
  },
  "vscode": {
   "interpreter": {
    "hash": "435845e718dc374aa0c7b7486c1d0c365353b482094aacc517f2917c2db9079c"
   }
  }
 },
 "nbformat": 4,
 "nbformat_minor": 5
}
