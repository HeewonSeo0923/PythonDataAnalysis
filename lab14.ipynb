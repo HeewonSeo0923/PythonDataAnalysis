{
 "cells": [
  {
   "cell_type": "markdown",
   "id": "fdde2c8b",
   "metadata": {
    "pycharm": {
     "name": "#%% md\n"
    }
   },
   "source": [
    "# 14-1 가설 검정이란"
   ]
  },
  {
   "cell_type": "markdown",
   "id": "becfb9cc",
   "metadata": {
    "pycharm": {
     "name": "#%% md\n"
    }
   },
   "source": [
    "# 14-2 t검정 - 두 집단의 평균 비교하기"
   ]
  },
  {
   "cell_type": "markdown",
   "id": "ba134674",
   "metadata": {
    "pycharm": {
     "name": "#%% md\n"
    }
   },
   "source": [
    "T test : 두 집단의 평균에 통계적으로 유의미한 차이가 있는지 알아보는 통계 분석 방법"
   ]
  },
  {
   "cell_type": "markdown",
   "id": "99e8f049",
   "metadata": {
    "pycharm": {
     "name": "#%% md\n"
    }
   },
   "source": [
    "## compact 자동차와 suv 자동차의 도시 연비 t 검정"
   ]
  },
  {
   "cell_type": "code",
   "execution_count": 1,
   "id": "c09ca09b",
   "metadata": {
    "pycharm": {
     "name": "#%%\n"
    }
   },
   "outputs": [],
   "source": [
    "import pandas as pd\n",
    "mpg = pd.read_csv('mpg.csv')"
   ]
  },
  {
   "cell_type": "code",
   "execution_count": 2,
   "id": "7d26832c",
   "metadata": {
    "pycharm": {
     "name": "#%%\n"
    }
   },
   "outputs": [
    {
     "data": {
      "text/plain": "  category   n      mean\n0  compact  47  20.12766\n1      suv  62  13.50000",
      "text/html": "<div>\n<style scoped>\n    .dataframe tbody tr th:only-of-type {\n        vertical-align: middle;\n    }\n\n    .dataframe tbody tr th {\n        vertical-align: top;\n    }\n\n    .dataframe thead th {\n        text-align: right;\n    }\n</style>\n<table border=\"1\" class=\"dataframe\">\n  <thead>\n    <tr style=\"text-align: right;\">\n      <th></th>\n      <th>category</th>\n      <th>n</th>\n      <th>mean</th>\n    </tr>\n  </thead>\n  <tbody>\n    <tr>\n      <th>0</th>\n      <td>compact</td>\n      <td>47</td>\n      <td>20.12766</td>\n    </tr>\n    <tr>\n      <th>1</th>\n      <td>suv</td>\n      <td>62</td>\n      <td>13.50000</td>\n    </tr>\n  </tbody>\n</table>\n</div>"
     },
     "execution_count": 2,
     "metadata": {},
     "output_type": "execute_result"
    }
   ],
   "source": [
    "# 기술 통계 분석\n",
    "mpg.query('category in [\"compact\", \"suv\"]')\\\n",
    "    .groupby('category', as_index = False) \\\n",
    "    .agg(n    = ('category', 'count'),\n",
    "        mean  = ('cty', 'mean'))"
   ]
  },
  {
   "cell_type": "code",
   "execution_count": 3,
   "id": "a85a6a39",
   "metadata": {
    "pycharm": {
     "name": "#%%\n"
    }
   },
   "outputs": [],
   "source": [
    "compact = mpg.query('category == \"compact\"')['cty']\n",
    "suv = mpg.query('category == \"suv\"')['cty']"
   ]
  },
  {
   "cell_type": "code",
   "execution_count": 4,
   "id": "d9b7bc71",
   "metadata": {
    "pycharm": {
     "name": "#%%\n"
    }
   },
   "outputs": [
    {
     "data": {
      "text/plain": "Ttest_indResult(statistic=11.917282584324107, pvalue=2.3909550904711282e-21)"
     },
     "execution_count": 4,
     "metadata": {},
     "output_type": "execute_result"
    }
   ],
   "source": [
    "# t - test\n",
    "from scipy import stats\n",
    "stats.ttest_ind(compact, suv, equal_var = True)"
   ]
  },
  {
   "cell_type": "markdown",
   "id": "1e643007",
   "metadata": {
    "pycharm": {
     "name": "#%% md\n"
    }
   },
   "source": [
    "t test output : reject H0"
   ]
  },
  {
   "cell_type": "markdown",
   "id": "c2818528",
   "metadata": {
    "pycharm": {
     "name": "#%% md\n"
    }
   },
   "source": [
    "## 일반 휘발유와 고급 휘발유의 도시 연비 t 검정"
   ]
  },
  {
   "cell_type": "code",
   "execution_count": 5,
   "id": "d8652ff2",
   "metadata": {
    "pycharm": {
     "name": "#%%\n"
    }
   },
   "outputs": [
    {
     "data": {
      "text/plain": "  fl    n       mean\n0  p   52  17.365385\n1  r  168  16.738095",
      "text/html": "<div>\n<style scoped>\n    .dataframe tbody tr th:only-of-type {\n        vertical-align: middle;\n    }\n\n    .dataframe tbody tr th {\n        vertical-align: top;\n    }\n\n    .dataframe thead th {\n        text-align: right;\n    }\n</style>\n<table border=\"1\" class=\"dataframe\">\n  <thead>\n    <tr style=\"text-align: right;\">\n      <th></th>\n      <th>fl</th>\n      <th>n</th>\n      <th>mean</th>\n    </tr>\n  </thead>\n  <tbody>\n    <tr>\n      <th>0</th>\n      <td>p</td>\n      <td>52</td>\n      <td>17.365385</td>\n    </tr>\n    <tr>\n      <th>1</th>\n      <td>r</td>\n      <td>168</td>\n      <td>16.738095</td>\n    </tr>\n  </tbody>\n</table>\n</div>"
     },
     "execution_count": 5,
     "metadata": {},
     "output_type": "execute_result"
    }
   ],
   "source": [
    "# 기술 통계 분석\n",
    "mpg.query('fl in [\"r\", \"p\"]') \\\n",
    "    .groupby('fl', as_index = False) \\\n",
    "    .agg(n     = ('fl', 'count'),\n",
    "        mean   = ('cty', 'mean'))"
   ]
  },
  {
   "cell_type": "code",
   "execution_count": 6,
   "id": "ddf1a3a8",
   "metadata": {
    "pycharm": {
     "name": "#%%\n"
    }
   },
   "outputs": [
    {
     "data": {
      "text/plain": "Ttest_indResult(statistic=-1.066182514588919, pvalue=0.28752051088667036)"
     },
     "execution_count": 6,
     "metadata": {},
     "output_type": "execute_result"
    }
   ],
   "source": [
    "regular = mpg.query('fl == \"r\"')['cty']\n",
    "premium = mpg.query('fl == \"p\"')['cty']\n",
    "\n",
    "\n",
    "# t - test\n",
    "stats.ttest_ind(regular, premium, equal_var = True)"
   ]
  },
  {
   "cell_type": "markdown",
   "id": "ff931e52",
   "metadata": {
    "pycharm": {
     "name": "#%% md\n"
    }
   },
   "source": [
    "t test output : reject H0"
   ]
  },
  {
   "cell_type": "markdown",
   "id": "012a12b8",
   "metadata": {
    "pycharm": {
     "name": "#%% md\n"
    }
   },
   "source": [
    "# 14-3 상관분석 - 두 변수의 관계 분석하기"
   ]
  },
  {
   "cell_type": "markdown",
   "id": "1c848e81",
   "metadata": {
    "pycharm": {
     "name": "#%% md\n"
    }
   },
   "source": [
    "## 실업자 수와 개인 소비 지출의 상관관계"
   ]
  },
  {
   "cell_type": "markdown",
   "id": "2ca80715",
   "metadata": {
    "pycharm": {
     "name": "#%% md\n"
    }
   },
   "source": [
    "### 1. 상관계수 구하기"
   ]
  },
  {
   "cell_type": "code",
   "execution_count": 7,
   "id": "2996969d",
   "metadata": {
    "pycharm": {
     "name": "#%%\n"
    }
   },
   "outputs": [],
   "source": [
    "# economics 데이터 불러오기\n",
    "economics = pd.read_csv('economics.csv')"
   ]
  },
  {
   "cell_type": "code",
   "execution_count": 8,
   "id": "450de1ec",
   "metadata": {
    "pycharm": {
     "name": "#%%\n"
    }
   },
   "outputs": [
    {
     "data": {
      "text/plain": "          unemploy       pce\nunemploy  1.000000  0.614518\npce       0.614518  1.000000",
      "text/html": "<div>\n<style scoped>\n    .dataframe tbody tr th:only-of-type {\n        vertical-align: middle;\n    }\n\n    .dataframe tbody tr th {\n        vertical-align: top;\n    }\n\n    .dataframe thead th {\n        text-align: right;\n    }\n</style>\n<table border=\"1\" class=\"dataframe\">\n  <thead>\n    <tr style=\"text-align: right;\">\n      <th></th>\n      <th>unemploy</th>\n      <th>pce</th>\n    </tr>\n  </thead>\n  <tbody>\n    <tr>\n      <th>unemploy</th>\n      <td>1.000000</td>\n      <td>0.614518</td>\n    </tr>\n    <tr>\n      <th>pce</th>\n      <td>0.614518</td>\n      <td>1.000000</td>\n    </tr>\n  </tbody>\n</table>\n</div>"
     },
     "execution_count": 8,
     "metadata": {},
     "output_type": "execute_result"
    }
   ],
   "source": [
    "# 상관행렬 만들기\n",
    "economics[['unemploy', 'pce']].corr()"
   ]
  },
  {
   "cell_type": "code",
   "execution_count": null,
   "outputs": [],
   "source": [],
   "metadata": {
    "collapsed": false,
    "pycharm": {
     "name": "#%%\n"
    }
   }
  }
 ],
 "metadata": {
  "kernelspec": {
   "display_name": "Python 3 (ipykernel)",
   "language": "python",
   "name": "python3"
  },
  "language_info": {
   "codemirror_mode": {
    "name": "ipython",
    "version": 3
   },
   "file_extension": ".py",
   "mimetype": "text/x-python",
   "name": "python",
   "nbconvert_exporter": "python",
   "pygments_lexer": "ipython3",
   "version": "3.9.12"
  }
 },
 "nbformat": 4,
 "nbformat_minor": 5
}